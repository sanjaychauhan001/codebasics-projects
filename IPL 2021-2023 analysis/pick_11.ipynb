{
 "cells": [
  {
   "cell_type": "code",
   "execution_count": 1,
   "metadata": {},
   "outputs": [],
   "source": [
    "import pandas as pd \n",
    "import numpy as np \n",
    "import matplotlib.pyplot as plt \n",
    "import seaborn as sns\n",
    "import plotly.express as px\n",
    "import warnings\n",
    "warnings.simplefilter(action='ignore', category=FutureWarning)"
   ]
  },
  {
   "cell_type": "code",
   "execution_count": 2,
   "metadata": {},
   "outputs": [],
   "source": [
    "summary = pd.read_csv(\"C:C10_Input_Files\\\\datasets\\\\dim_match_summary.csv\")\n",
    "players = pd.read_csv(\"C:C10_Input_Files\\\\datasets\\\\dim_players.csv\")\n",
    "batting = pd.read_csv(\"C:C10_Input_Files\\\\datasets\\\\fact_bating_summary.csv\")\n",
    "bowlling = pd.read_csv(\"C:C10_Input_Files\\\\datasets\\\\fact_bowling_summary.csv\")"
   ]
  },
  {
   "cell_type": "code",
   "execution_count": 7,
   "metadata": {},
   "outputs": [],
   "source": [
    "temp1 = batting[(batting['battingPos'] == 1) | (batting['battingPos'] == 2)]"
   ]
  },
  {
   "cell_type": "code",
   "execution_count": 11,
   "metadata": {},
   "outputs": [
    {
     "data": {
      "text/plain": [
       "batsmanName\n",
       "ShubmanGill        1851\n",
       "FafduPlessis       1831\n",
       "RuturajGaikwad     1593\n",
       "KLRahul            1516\n",
       "JosButtler         1465\n",
       "ShikharDhawan      1392\n",
       "ViratKohli         1266\n",
       "DavidWarner        1137\n",
       "YashasviJaiswal    1132\n",
       "IshanKishan        1006\n",
       "Name: runs, dtype: int64"
      ]
     },
     "execution_count": 11,
     "metadata": {},
     "output_type": "execute_result"
    }
   ],
   "source": [
    "temp1.groupby('batsmanName')['runs'].sum().sort_values(ascending=False).head(10)"
   ]
  },
  {
   "cell_type": "code",
   "execution_count": 13,
   "metadata": {},
   "outputs": [
    {
     "data": {
      "text/plain": [
       "batsmanName\n",
       "SanjuSamson        1096\n",
       "RahulTripathi      1032\n",
       "MoeenAli            502\n",
       "SuryakumarYadav     494\n",
       "SaiSudharsan        493\n",
       "CameronGreen        419\n",
       "ShreyasIyer         404\n",
       "RajatPatidar        383\n",
       "MitchellMarsh       379\n",
       "HardikPandya        351\n",
       "Name: runs, dtype: int64"
      ]
     },
     "execution_count": 13,
     "metadata": {},
     "output_type": "execute_result"
    }
   ],
   "source": [
    "temp2 = batting[(batting['battingPos'] == 3) ]\n",
    "temp2.groupby('batsmanName')['runs'].sum().sort_values(ascending=False).head(10)"
   ]
  },
  {
   "cell_type": "code",
   "execution_count": 14,
   "metadata": {},
   "outputs": [
    {
     "data": {
      "text/plain": [
       "batsmanName\n",
       "GlennMaxwell       908\n",
       "LiamLivingstone    629\n",
       "AidenMarkram       615\n",
       "RishabhPant        581\n",
       "SuryakumarYadav    557\n",
       "ShivamDube         503\n",
       "HardikPandya       497\n",
       "NitishRana         476\n",
       "KrunalPandya       270\n",
       "TilakVarma         270\n",
       "Name: runs, dtype: int64"
      ]
     },
     "execution_count": 14,
     "metadata": {},
     "output_type": "execute_result"
    }
   ],
   "source": [
    "temp3 = batting[(batting['battingPos'] == 4) ]\n",
    "temp3.groupby('batsmanName')['runs'].sum().sort_values(ascending=False).head(10)"
   ]
  },
  {
   "cell_type": "code",
   "execution_count": 15,
   "metadata": {},
   "outputs": [
    {
     "data": {
      "text/plain": [
       "batsmanName\n",
       "DavidMiller       683\n",
       "AmbatiRayudu      401\n",
       "TilakVarma        394\n",
       "ShimronHetmyer    389\n",
       "NicholasPooran    359\n",
       "RinkuSingh        344\n",
       "MarcusStoinis     290\n",
       "ABdeVilliers      256\n",
       "JiteshSharma      255\n",
       "KieronPollard     220\n",
       "Name: runs, dtype: int64"
      ]
     },
     "execution_count": 15,
     "metadata": {},
     "output_type": "execute_result"
    }
   ],
   "source": [
    "temp4 = batting[(batting['battingPos'] == 5) ]\n",
    "temp4.groupby('batsmanName')['runs'].sum().sort_values(ascending=False).head(10)"
   ]
  },
  {
   "cell_type": "code",
   "execution_count": 16,
   "metadata": {},
   "outputs": [
    {
     "data": {
      "text/plain": [
       "batsmanName\n",
       "ShimronHetmyer    334\n",
       "DineshKarthik     329\n",
       "AndreRussell      243\n",
       "RiyanParag        217\n",
       "MShahrukhKhan     210\n",
       "RavindraJadeja    199\n",
       "ShahbazAhmed      195\n",
       "RahulTewatia      183\n",
       "RinkuSingh        183\n",
       "AyushBadoni       178\n",
       "Name: runs, dtype: int64"
      ]
     },
     "execution_count": 16,
     "metadata": {},
     "output_type": "execute_result"
    }
   ],
   "source": [
    "temp5 = batting[(batting['battingPos'] == 6) ]\n",
    "temp5.groupby('batsmanName')['runs'].sum().sort_values(ascending=False).head(10)"
   ]
  },
  {
   "cell_type": "code",
   "execution_count": 17,
   "metadata": {},
   "outputs": [
    {
     "data": {
      "text/plain": [
       "batsmanName\n",
       "AndreRussell      348\n",
       "AxarPatel         322\n",
       "DineshKarthik     238\n",
       "RahulTewatia      214\n",
       "AbdulSamad        205\n",
       "RavindraJadeja    182\n",
       "MSDhoni           171\n",
       "ShardulThakur     150\n",
       "MShahrukhKhan     132\n",
       "KrunalPandya      112\n",
       "Name: runs, dtype: int64"
      ]
     },
     "execution_count": 17,
     "metadata": {},
     "output_type": "execute_result"
    }
   ],
   "source": [
    "temp6 = batting[(batting['battingPos'] == 7) ]\n",
    "temp6.groupby('batsmanName')['runs'].sum().sort_values(ascending=False).head(10)"
   ]
  },
  {
   "cell_type": "code",
   "execution_count": 19,
   "metadata": {},
   "outputs": [
    {
     "data": {
      "text/plain": [
       "batsmanName\n",
       "RashidKhan            198\n",
       "PatCummins             96\n",
       "MSDhoni                81\n",
       "ShardulThakur          70\n",
       "AxarPatel              69\n",
       "ChrisMorris            67\n",
       "AndreRussell           63\n",
       "WaninduHasaranga       60\n",
       "MShahrukhKhan          57\n",
       "RavichandranAshwin     56\n",
       "Name: runs, dtype: int64"
      ]
     },
     "execution_count": 19,
     "metadata": {},
     "output_type": "execute_result"
    }
   ],
   "source": [
    "temp7 = batting[(batting['battingPos'] == 8) ]\n",
    "temp7.groupby('batsmanName')['runs'].sum().sort_values(ascending=False).head(10)"
   ]
  },
  {
   "cell_type": "code",
   "execution_count": 20,
   "metadata": {},
   "outputs": [
    {
     "data": {
      "text/plain": [
       "batsmanName\n",
       "BhuvneshwarKumar    91\n",
       "RahulChahar         91\n",
       "KuldeepYadav        68\n",
       "HarshalPatel        67\n",
       "JaydevUnadkat       60\n",
       "HarpreetBrar        41\n",
       "DavidWilley         35\n",
       "UmeshYadav          31\n",
       "MohsinKhan          23\n",
       "LockieFerguson      23\n",
       "Name: runs, dtype: int64"
      ]
     },
     "execution_count": 20,
     "metadata": {},
     "output_type": "execute_result"
    }
   ],
   "source": [
    "temp8 = batting[(batting['battingPos'] == 9) ]\n",
    "temp8.groupby('batsmanName')['runs'].sum().sort_values(ascending=False).head(10)"
   ]
  },
  {
   "cell_type": "code",
   "execution_count": 21,
   "metadata": {},
   "outputs": [
    {
     "data": {
      "text/plain": [
       "batsmanName\n",
       "UmeshYadav        43\n",
       "KagisoRabada      40\n",
       "MohammedSiraj     36\n",
       "AnrichNortje      33\n",
       "UmranMalik        23\n",
       "ShivamMavi        20\n",
       "MayankMarkande    19\n",
       "JaspritBumrah     16\n",
       "Naveen-ul-Haq     16\n",
       "AveshKhan         15\n",
       "Name: runs, dtype: int64"
      ]
     },
     "execution_count": 21,
     "metadata": {},
     "output_type": "execute_result"
    }
   ],
   "source": [
    "temp9 = batting[(batting['battingPos'] == 10) ]\n",
    "temp9.groupby('batsmanName')['runs'].sum().sort_values(ascending=False).head(10)"
   ]
  },
  {
   "cell_type": "code",
   "execution_count": 22,
   "metadata": {},
   "outputs": [
    {
     "data": {
      "text/plain": [
       "batsmanName\n",
       "AkashDeep            17\n",
       "ArshdeepSingh        16\n",
       "JoshHazlewood        15\n",
       "MohammedSiraj        15\n",
       "VarunChakravarthy    13\n",
       "AveshKhan            12\n",
       "MustafizurRahman     12\n",
       "KuldeepYadav          7\n",
       "MukeshChoudhary       6\n",
       "MohammedShami         5\n",
       "Name: runs, dtype: int64"
      ]
     },
     "execution_count": 22,
     "metadata": {},
     "output_type": "execute_result"
    }
   ],
   "source": [
    "temp10 = batting[(batting['battingPos'] == 11) ]\n",
    "temp10.groupby('batsmanName')['runs'].sum().sort_values(ascending=False).head(10)"
   ]
  },
  {
   "cell_type": "markdown",
   "metadata": {},
   "source": [
    "### my 11\n",
    "1. Shubman Gill\n",
    "2. Yashasvi Jaiswal\n",
    "3. Surya kumar Yadav/sanju samsan\n",
    "4. Glenn Maxwell\n",
    "5. rinku singh/David Miller\n",
    "6. Andre Russell\n",
    "7. Ravindra Jadeja\n",
    "8. MohammedShami\n",
    "9. Trent Boult\n",
    "10. Yuzvendra Chahal\n",
    "11. Mohammed Siraj"
   ]
  },
  {
   "cell_type": "markdown",
   "metadata": {},
   "source": [
    "### top 3 all rounders\n",
    "1. Ravindra Jadeja\n",
    "2. Hardik Pandya\n",
    "3. AndreRussell"
   ]
  },
  {
   "cell_type": "code",
   "execution_count": 23,
   "metadata": {},
   "outputs": [],
   "source": []
  },
  {
   "cell_type": "code",
   "execution_count": null,
   "metadata": {},
   "outputs": [],
   "source": []
  },
  {
   "cell_type": "code",
   "execution_count": null,
   "metadata": {},
   "outputs": [],
   "source": []
  },
  {
   "cell_type": "code",
   "execution_count": null,
   "metadata": {},
   "outputs": [],
   "source": []
  }
 ],
 "metadata": {
  "kernelspec": {
   "display_name": "Python 3",
   "language": "python",
   "name": "python3"
  },
  "language_info": {
   "codemirror_mode": {
    "name": "ipython",
    "version": 3
   },
   "file_extension": ".py",
   "mimetype": "text/x-python",
   "name": "python",
   "nbconvert_exporter": "python",
   "pygments_lexer": "ipython3",
   "version": "3.12.1"
  }
 },
 "nbformat": 4,
 "nbformat_minor": 2
}
